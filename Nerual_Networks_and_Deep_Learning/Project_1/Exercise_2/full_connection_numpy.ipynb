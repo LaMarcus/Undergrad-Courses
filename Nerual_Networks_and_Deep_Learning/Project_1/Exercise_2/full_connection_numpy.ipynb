{
 "cells": [
  {
   "cell_type": "markdown",
   "metadata": {},
   "source": [
    "# 填空题"
   ]
  },
  {
   "cell_type": "markdown",
   "metadata": {},
   "source": [
    "### 介绍：本程序是一个单层神经网络做分类预测的程序。运行的数据集是MNIST数据集，损失函数是交叉熵函数，预测出来的精度在85% 以上，（执行的时候，先位置在前面的程序，然后执行自己补全的程序）（注：机器需要先安装好 numpy 和 tensorflow,装anaconda即可，它包含了numpy库，下载地址  清华映像）"
   ]
  },
  {
   "cell_type": "code",
   "execution_count": 1,
   "metadata": {
    "collapsed": false
   },
   "outputs": [
    {
     "name": "stdout",
     "output_type": "stream",
     "text": [
      "Extracting MNIST_data\\train-images-idx3-ubyte.gz\n",
      "Extracting MNIST_data\\train-labels-idx1-ubyte.gz\n",
      "Extracting MNIST_data\\t10k-images-idx3-ubyte.gz\n",
      "Extracting MNIST_data\\t10k-labels-idx1-ubyte.gz\n",
      "##############################\n",
      "compute_accuracy: 0.118\n",
      "cross_entropy: 4.01983200769\n",
      "##############################\n",
      "compute_accuracy: 0.59\n",
      "cross_entropy: 1.17772359306\n",
      "##############################\n",
      "compute_accuracy: 0.724\n",
      "cross_entropy: 0.942691262154\n",
      "##############################\n",
      "compute_accuracy: 0.76\n",
      "cross_entropy: 0.870803182265\n",
      "##############################\n",
      "compute_accuracy: 0.794\n",
      "cross_entropy: 0.456877223997\n",
      "##############################\n",
      "compute_accuracy: 0.818\n",
      "cross_entropy: 0.647364831682\n",
      "##############################\n",
      "compute_accuracy: 0.834\n",
      "cross_entropy: 0.546705162343\n",
      "##############################\n",
      "compute_accuracy: 0.846\n",
      "cross_entropy: 0.610677958487\n",
      "##############################\n",
      "compute_accuracy: 0.852\n",
      "cross_entropy: 0.463193439132\n",
      "##############################\n",
      "compute_accuracy: 0.864\n",
      "cross_entropy: 0.36633635645\n",
      "##############################\n",
      "compute_accuracy: 0.868\n",
      "cross_entropy: 0.329034343784\n",
      "##############################\n",
      "compute_accuracy: 0.872\n",
      "cross_entropy: 0.544457156629\n",
      "##############################\n",
      "compute_accuracy: 0.876\n",
      "cross_entropy: 0.487745136445\n",
      "##############################\n",
      "compute_accuracy: 0.88\n",
      "cross_entropy: 0.517781857089\n",
      "##############################\n",
      "compute_accuracy: 0.886\n",
      "cross_entropy: 0.364312119171\n",
      "##############################\n",
      "compute_accuracy: 0.886\n",
      "cross_entropy: 0.678056831663\n",
      "##############################\n",
      "compute_accuracy: 0.888\n",
      "cross_entropy: 0.38022487844\n",
      "##############################\n",
      "compute_accuracy: 0.886\n",
      "cross_entropy: 0.409876401172\n",
      "##############################\n",
      "compute_accuracy: 0.89\n",
      "cross_entropy: 0.361676389641\n",
      "##############################\n",
      "compute_accuracy: 0.896\n",
      "cross_entropy: 0.268976497491\n"
     ]
    },
    {
     "data": {
      "text/plain": [
       "<__main__.Model at 0x1bcee9d2320>"
      ]
     },
     "execution_count": 1,
     "metadata": {},
     "output_type": "execute_result"
    }
   ],
   "source": [
    "# -*- coding: utf-8 -*-\n",
    "\n",
    "\"\"\"\n",
    "Created on Thu Oct 19 15:19:58 2017\n",
    "\n",
    "@author: lamwa\n",
    "\"\"\"\n",
    "\n",
    "import numpy as np\n",
    "from tensorflow.examples.tutorials.mnist import input_data\n",
    "\n",
    "class Model():\n",
    "    def __init__(self):\n",
    "        mnist = input_data.read_data_sets('MNIST_data', one_hot=True)\n",
    "        self.n_in = 784  # 28 * 28\n",
    "        self.n_out = 10  # 10 classes\n",
    "        self.max_epochs = 10000  # max training steps 1000\n",
    "        self.Weights = np.random.rand(self.n_in, self.n_out) # initialize W 0\n",
    "\n",
    "        self.biases = np.zeros(self.n_out)  # initialize bias 0\n",
    "        for i in range(self.max_epochs):\n",
    "            batch_xs, batch_ys = mnist.train.next_batch(100)\n",
    "            batch_xs = np.array(batch_xs)\n",
    "            batch_ys = np.array(batch_ys)\n",
    "\n",
    "            self.train(batch_xs, batch_ys, 0.0001)\n",
    "            if i % 500 == 0: \n",
    "                accuracy_test = self.compute_accuracy(np.array(mnist.test.images[: 500]), np.array(mnist.test.labels[: 500]))\n",
    "                print(\"#\" * 30)\n",
    "                print(\"compute_accuracy:\", accuracy_test)\n",
    "                print(\"cross_entropy:\", self.cross_entropy(batch_ys, self.output(batch_xs))) # print out cross entropy loss function\n",
    "        \n",
    "    def train(self, batch_x, batch_y, learning_rate):\n",
    "        probs = self.output(batch_x)\n",
    "        delta = probs\n",
    "        delta -= batch_y\n",
    "        dW = batch_x.T.dot(delta)\n",
    "        db = np.sum(delta, axis=0)\n",
    "        self.Weights += -learning_rate * dW\n",
    "        self.biases += -learning_rate * db\n",
    "        \n",
    "    def output(self, batch_x): # print out the predictions\n",
    "        # avoiding overflow\n",
    "        def softmax(x):\n",
    "            e_x = np.exp(x - np.max(x))\n",
    "            return e_x / (e_x.sum(axis=0)) + 1e-30  #\n",
    "        prediction = np.add(np.dot(batch_x, self.Weights), self.biases)\n",
    "        result = []\n",
    "        for i in range(len(prediction)):\n",
    "            result.append(softmax(prediction[i]))\n",
    "        return np.array(result)\n",
    "        \n",
    "    def cross_entropy(self, batch_y, prediction_y): # cross entropy function\n",
    "        cross_entropy = - np.mean(\n",
    "            np.sum(batch_y * np.log(prediction_y), axis=1))\n",
    "        return cross_entropy\n",
    "        \n",
    "    def compute_accuracy(self, xs, ys): # computing the accuracy\n",
    "        pre_y = self.output(xs)\n",
    "        pre_y_index = np.argmax(pre_y, axis=1)\n",
    "        y_index = np.argmax(ys, axis=1)\n",
    "        count_equal = np.equal(y_index, pre_y_index)\n",
    "        count = np.sum([1 for e in count_equal if e ])\n",
    "        sum_count = len(xs)\n",
    "        return count * 1.0 / sum_count\n",
    "Model()"
   ]
  }
 ],
 "metadata": {
  "anaconda-cloud": {},
  "kernelspec": {
   "display_name": "Python [conda root]",
   "language": "python",
   "name": "conda-root-py"
  },
  "language_info": {
   "codemirror_mode": {
    "name": "ipython",
    "version": 3
   },
   "file_extension": ".py",
   "mimetype": "text/x-python",
   "name": "python",
   "nbconvert_exporter": "python",
   "pygments_lexer": "ipython3",
   "version": "3.5.2"
  }
 },
 "nbformat": 4,
 "nbformat_minor": 1
}
